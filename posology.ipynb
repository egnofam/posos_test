{
 "cells": [
  {
   "cell_type": "markdown",
   "id": "a0663825-3b22-46d6-a0c7-6a8094004de1",
   "metadata": {},
   "source": [
    "## Task 1 : Analysis"
   ]
  },
  {
   "cell_type": "code",
   "execution_count": 1,
   "id": "4006e608-db1f-44e7-9515-ff7a32c0c950",
   "metadata": {},
   "outputs": [],
   "source": [
    "# import libraries\n",
    "import pandas as pd\n",
    "import numpy as np\n",
    "import nltk\n",
    "import seaborn as sns\n",
    "import matplotlib.pyplot as plt\n",
    "import os\n",
    "import nltk\n",
    "from wordcloud import WordCloud\n",
    "from nltk.tokenize import word_tokenize"
   ]
  },
  {
   "cell_type": "markdown",
   "id": "06e10f28-b4c2-4969-a1a3-1ab97da4d084",
   "metadata": {},
   "source": [
    "### 1 - analyse data to reduce the complexity "
   ]
  },
  {
   "cell_type": "code",
   "execution_count": 2,
   "id": "91b801bb-4675-4975-85fd-43003244eca4",
   "metadata": {},
   "outputs": [],
   "source": [
    "# import data\n",
    "# data url path\n",
    "path_data_negative = os.path.abspath('data/negative_examples_posology.csv')\n",
    "path_data_positive = os.path.abspath('data/positive_examples_posology.csv')\n",
    "# read data\n",
    "data_negative = pd.read_csv(path_data_negative, header=0, names=['Id', 'Text'], index_col='Id')\n",
    "data_positive = pd.read_csv(path_data_positive, header=0, names=['Id', 'Text'], index_col='Id')"
   ]
  },
  {
   "cell_type": "code",
   "execution_count": 3,
   "id": "db5e1f0c-b9ff-4223-bdcc-03c4f0f09f68",
   "metadata": {},
   "outputs": [
    {
     "data": {
      "text/plain": [
       "((1457, 1), (496, 1))"
      ]
     },
     "execution_count": 3,
     "metadata": {},
     "output_type": "execute_result"
    }
   ],
   "source": [
    "data_negative.shape, data_positive.shape"
   ]
  },
  {
   "cell_type": "code",
   "execution_count": 4,
   "id": "54f27693-741a-410e-b566-b46447af2c9e",
   "metadata": {},
   "outputs": [
    {
     "data": {
      "text/html": [
       "<div>\n",
       "<style scoped>\n",
       "    .dataframe tbody tr th:only-of-type {\n",
       "        vertical-align: middle;\n",
       "    }\n",
       "\n",
       "    .dataframe tbody tr th {\n",
       "        vertical-align: top;\n",
       "    }\n",
       "\n",
       "    .dataframe thead th {\n",
       "        text-align: right;\n",
       "    }\n",
       "</style>\n",
       "<table border=\"1\" class=\"dataframe\">\n",
       "  <thead>\n",
       "    <tr style=\"text-align: right;\">\n",
       "      <th></th>\n",
       "      <th>Text</th>\n",
       "    </tr>\n",
       "    <tr>\n",
       "      <th>Id</th>\n",
       "      <th></th>\n",
       "    </tr>\n",
       "  </thead>\n",
       "  <tbody>\n",
       "    <tr>\n",
       "      <th>1</th>\n",
       "      <td>ne 06/05/1995</td>\n",
       "    </tr>\n",
       "    <tr>\n",
       "      <th>3</th>\n",
       "      <td>centre dimagerie medicale pavillon</td>\n",
       "    </tr>\n",
       "    <tr>\n",
       "      <th>5</th>\n",
       "      <td>78,75eur</td>\n",
       "    </tr>\n",
       "    <tr>\n",
       "      <th>6</th>\n",
       "      <td>lundi 9h00/18h00</td>\n",
       "    </tr>\n",
       "    <tr>\n",
       "      <th>8</th>\n",
       "      <td>59100 roubaix</td>\n",
       "    </tr>\n",
       "  </tbody>\n",
       "</table>\n",
       "</div>"
      ],
      "text/plain": [
       "                                  Text\n",
       "Id                                    \n",
       "1                        ne 06/05/1995\n",
       "3   centre dimagerie medicale pavillon\n",
       "5                             78,75eur\n",
       "6                     lundi 9h00/18h00\n",
       "8                        59100 roubaix"
      ]
     },
     "execution_count": 4,
     "metadata": {},
     "output_type": "execute_result"
    }
   ],
   "source": [
    "# visualize the first five negative rows\n",
    "data_negative.head()"
   ]
  },
  {
   "cell_type": "code",
   "execution_count": 5,
   "id": "7009e1ef-5d2d-497a-af88-6e8eba949db3",
   "metadata": {},
   "outputs": [
    {
     "data": {
      "text/html": [
       "<div>\n",
       "<style scoped>\n",
       "    .dataframe tbody tr th:only-of-type {\n",
       "        vertical-align: middle;\n",
       "    }\n",
       "\n",
       "    .dataframe tbody tr th {\n",
       "        vertical-align: top;\n",
       "    }\n",
       "\n",
       "    .dataframe thead th {\n",
       "        text-align: right;\n",
       "    }\n",
       "</style>\n",
       "<table border=\"1\" class=\"dataframe\">\n",
       "  <thead>\n",
       "    <tr style=\"text-align: right;\">\n",
       "      <th></th>\n",
       "      <th>Text</th>\n",
       "    </tr>\n",
       "    <tr>\n",
       "      <th>Id</th>\n",
       "      <th></th>\n",
       "    </tr>\n",
       "  </thead>\n",
       "  <tbody>\n",
       "    <tr>\n",
       "      <th>2587</th>\n",
       "      <td>personne recevant les soins (la ligne nom et p...</td>\n",
       "    </tr>\n",
       "    <tr>\n",
       "      <th>2590</th>\n",
       "      <td>identification du pharmacien ou du fouruisseur...</td>\n",
       "    </tr>\n",
       "    <tr>\n",
       "      <th>2591</th>\n",
       "      <td>|dispensation du 21/04/2021 a 12h43m30s</td>\n",
       "    </tr>\n",
       "    <tr>\n",
       "      <th>2595</th>\n",
       "      <td>pointe a pitre, le 12/04/2021</td>\n",
       "    </tr>\n",
       "    <tr>\n",
       "      <th>2596</th>\n",
       "      <td>paracetamol 1 g; voie orale; comprime</td>\n",
       "    </tr>\n",
       "  </tbody>\n",
       "</table>\n",
       "</div>"
      ],
      "text/plain": [
       "                                                   Text\n",
       "Id                                                     \n",
       "2587  personne recevant les soins (la ligne nom et p...\n",
       "2590  identification du pharmacien ou du fouruisseur...\n",
       "2591            |dispensation du 21/04/2021 a 12h43m30s\n",
       "2595                      pointe a pitre, le 12/04/2021\n",
       "2596              paracetamol 1 g; voie orale; comprime"
      ]
     },
     "execution_count": 5,
     "metadata": {},
     "output_type": "execute_result"
    }
   ],
   "source": [
    "# visualize the last five  negative rows\n",
    "data_negative.tail()"
   ]
  },
  {
   "cell_type": "code",
   "execution_count": 6,
   "id": "4a9a42e4-ad16-4d1a-b858-9d1dadecdbe4",
   "metadata": {},
   "outputs": [
    {
     "data": {
      "text/html": [
       "<div>\n",
       "<style scoped>\n",
       "    .dataframe tbody tr th:only-of-type {\n",
       "        vertical-align: middle;\n",
       "    }\n",
       "\n",
       "    .dataframe tbody tr th {\n",
       "        vertical-align: top;\n",
       "    }\n",
       "\n",
       "    .dataframe thead th {\n",
       "        text-align: right;\n",
       "    }\n",
       "</style>\n",
       "<table border=\"1\" class=\"dataframe\">\n",
       "  <thead>\n",
       "    <tr style=\"text-align: right;\">\n",
       "      <th></th>\n",
       "      <th>Text</th>\n",
       "    </tr>\n",
       "    <tr>\n",
       "      <th>Id</th>\n",
       "      <th></th>\n",
       "    </tr>\n",
       "  </thead>\n",
       "  <tbody>\n",
       "    <tr>\n",
       "      <th>0</th>\n",
       "      <td>corgard 40 mg  1 comprimé le matin et le soir</td>\n",
       "    </tr>\n",
       "    <tr>\n",
       "      <th>1</th>\n",
       "      <td>peau atopique</td>\n",
       "    </tr>\n",
       "    <tr>\n",
       "      <th>2</th>\n",
       "      <td>quantité suffisante pour 14j</td>\n",
       "    </tr>\n",
       "    <tr>\n",
       "      <th>3</th>\n",
       "      <td>prendre 1/2 comprime toutes les 8 heures</td>\n",
       "    </tr>\n",
       "    <tr>\n",
       "      <th>4</th>\n",
       "      <td>19 kggraduation 1 a 4 fois par jour selon beso...</td>\n",
       "    </tr>\n",
       "  </tbody>\n",
       "</table>\n",
       "</div>"
      ],
      "text/plain": [
       "                                                 Text\n",
       "Id                                                   \n",
       "0       corgard 40 mg  1 comprimé le matin et le soir\n",
       "1                                       peau atopique\n",
       "2                        quantité suffisante pour 14j\n",
       "3            prendre 1/2 comprime toutes les 8 heures\n",
       "4   19 kggraduation 1 a 4 fois par jour selon beso..."
      ]
     },
     "execution_count": 6,
     "metadata": {},
     "output_type": "execute_result"
    }
   ],
   "source": [
    "# visualize the first five positive rows\n",
    "data_positive.head()"
   ]
  },
  {
   "cell_type": "code",
   "execution_count": 7,
   "id": "759e376c-2b56-4223-8ebe-8f5f15861dfb",
   "metadata": {},
   "outputs": [
    {
     "data": {
      "text/html": [
       "<div>\n",
       "<style scoped>\n",
       "    .dataframe tbody tr th:only-of-type {\n",
       "        vertical-align: middle;\n",
       "    }\n",
       "\n",
       "    .dataframe tbody tr th {\n",
       "        vertical-align: top;\n",
       "    }\n",
       "\n",
       "    .dataframe thead th {\n",
       "        text-align: right;\n",
       "    }\n",
       "</style>\n",
       "<table border=\"1\" class=\"dataframe\">\n",
       "  <thead>\n",
       "    <tr style=\"text-align: right;\">\n",
       "      <th></th>\n",
       "      <th>Text</th>\n",
       "    </tr>\n",
       "    <tr>\n",
       "      <th>Id</th>\n",
       "      <th></th>\n",
       "    </tr>\n",
       "  </thead>\n",
       "  <tbody>\n",
       "    <tr>\n",
       "      <th>0</th>\n",
       "      <td>corgard 40 mg  1 comprimé le matin et le soir</td>\n",
       "    </tr>\n",
       "    <tr>\n",
       "      <th>1</th>\n",
       "      <td>peau atopique</td>\n",
       "    </tr>\n",
       "    <tr>\n",
       "      <th>2</th>\n",
       "      <td>quantité suffisante pour 14j</td>\n",
       "    </tr>\n",
       "    <tr>\n",
       "      <th>3</th>\n",
       "      <td>prendre 1/2 comprime toutes les 8 heures</td>\n",
       "    </tr>\n",
       "    <tr>\n",
       "      <th>4</th>\n",
       "      <td>19 kggraduation 1 a 4 fois par jour selon beso...</td>\n",
       "    </tr>\n",
       "  </tbody>\n",
       "</table>\n",
       "</div>"
      ],
      "text/plain": [
       "                                                 Text\n",
       "Id                                                   \n",
       "0       corgard 40 mg  1 comprimé le matin et le soir\n",
       "1                                       peau atopique\n",
       "2                        quantité suffisante pour 14j\n",
       "3            prendre 1/2 comprime toutes les 8 heures\n",
       "4   19 kggraduation 1 a 4 fois par jour selon beso..."
      ]
     },
     "execution_count": 7,
     "metadata": {},
     "output_type": "execute_result"
    }
   ],
   "source": [
    "# visualize the last five negative rows\n",
    "data_positive.head()"
   ]
  },
  {
   "cell_type": "code",
   "execution_count": 8,
   "id": "3afb9a09-811d-4572-9845-28217eff272d",
   "metadata": {},
   "outputs": [
    {
     "data": {
      "text/html": [
       "<div>\n",
       "<style scoped>\n",
       "    .dataframe tbody tr th:only-of-type {\n",
       "        vertical-align: middle;\n",
       "    }\n",
       "\n",
       "    .dataframe tbody tr th {\n",
       "        vertical-align: top;\n",
       "    }\n",
       "\n",
       "    .dataframe thead th {\n",
       "        text-align: right;\n",
       "    }\n",
       "</style>\n",
       "<table border=\"1\" class=\"dataframe\">\n",
       "  <thead>\n",
       "    <tr style=\"text-align: right;\">\n",
       "      <th></th>\n",
       "      <th>Text</th>\n",
       "      <th>Target</th>\n",
       "    </tr>\n",
       "    <tr>\n",
       "      <th>Id</th>\n",
       "      <th></th>\n",
       "      <th></th>\n",
       "    </tr>\n",
       "  </thead>\n",
       "  <tbody>\n",
       "    <tr>\n",
       "      <th>2587</th>\n",
       "      <td>personne recevant les soins (la ligne nom et p...</td>\n",
       "      <td>0</td>\n",
       "    </tr>\n",
       "    <tr>\n",
       "      <th>2590</th>\n",
       "      <td>identification du pharmacien ou du fouruisseur...</td>\n",
       "      <td>0</td>\n",
       "    </tr>\n",
       "    <tr>\n",
       "      <th>2591</th>\n",
       "      <td>|dispensation du 21/04/2021 a 12h43m30s</td>\n",
       "      <td>0</td>\n",
       "    </tr>\n",
       "    <tr>\n",
       "      <th>2595</th>\n",
       "      <td>pointe a pitre, le 12/04/2021</td>\n",
       "      <td>0</td>\n",
       "    </tr>\n",
       "    <tr>\n",
       "      <th>2596</th>\n",
       "      <td>paracetamol 1 g; voie orale; comprime</td>\n",
       "      <td>0</td>\n",
       "    </tr>\n",
       "  </tbody>\n",
       "</table>\n",
       "</div>"
      ],
      "text/plain": [
       "                                                   Text  Target\n",
       "Id                                                             \n",
       "2587  personne recevant les soins (la ligne nom et p...       0\n",
       "2590  identification du pharmacien ou du fouruisseur...       0\n",
       "2591            |dispensation du 21/04/2021 a 12h43m30s       0\n",
       "2595                      pointe a pitre, le 12/04/2021       0\n",
       "2596              paracetamol 1 g; voie orale; comprime       0"
      ]
     },
     "execution_count": 8,
     "metadata": {},
     "output_type": "execute_result"
    }
   ],
   "source": [
    "# add target column : 0 means it is not a posology \n",
    "data_negative['Target'] = 0\n",
    "data_negative.tail()"
   ]
  },
  {
   "cell_type": "code",
   "execution_count": 9,
   "id": "e9947ecb-c768-4757-9a57-814b78f785dc",
   "metadata": {},
   "outputs": [
    {
     "data": {
      "text/html": [
       "<div>\n",
       "<style scoped>\n",
       "    .dataframe tbody tr th:only-of-type {\n",
       "        vertical-align: middle;\n",
       "    }\n",
       "\n",
       "    .dataframe tbody tr th {\n",
       "        vertical-align: top;\n",
       "    }\n",
       "\n",
       "    .dataframe thead th {\n",
       "        text-align: right;\n",
       "    }\n",
       "</style>\n",
       "<table border=\"1\" class=\"dataframe\">\n",
       "  <thead>\n",
       "    <tr style=\"text-align: right;\">\n",
       "      <th></th>\n",
       "      <th>Text</th>\n",
       "      <th>Target</th>\n",
       "    </tr>\n",
       "    <tr>\n",
       "      <th>Id</th>\n",
       "      <th></th>\n",
       "      <th></th>\n",
       "    </tr>\n",
       "  </thead>\n",
       "  <tbody>\n",
       "    <tr>\n",
       "      <th>491</th>\n",
       "      <td>quantité suffisante pour 3 mois</td>\n",
       "      <td>1</td>\n",
       "    </tr>\n",
       "    <tr>\n",
       "      <th>492</th>\n",
       "      <td>1/ jour pendant 3 mois</td>\n",
       "      <td>1</td>\n",
       "    </tr>\n",
       "    <tr>\n",
       "      <th>493</th>\n",
       "      <td>1 comprime i fois par jourau meme moment de la...</td>\n",
       "      <td>1</td>\n",
       "    </tr>\n",
       "    <tr>\n",
       "      <th>494</th>\n",
       "      <td>etre pris en une prise unique le soir</td>\n",
       "      <td>1</td>\n",
       "    </tr>\n",
       "    <tr>\n",
       "      <th>495</th>\n",
       "      <td>mucomyst 2 fois par jour quantité suffisante p...</td>\n",
       "      <td>1</td>\n",
       "    </tr>\n",
       "  </tbody>\n",
       "</table>\n",
       "</div>"
      ],
      "text/plain": [
       "                                                  Text  Target\n",
       "Id                                                            \n",
       "491                    quantité suffisante pour 3 mois       1\n",
       "492                             1/ jour pendant 3 mois       1\n",
       "493  1 comprime i fois par jourau meme moment de la...       1\n",
       "494              etre pris en une prise unique le soir       1\n",
       "495  mucomyst 2 fois par jour quantité suffisante p...       1"
      ]
     },
     "execution_count": 9,
     "metadata": {},
     "output_type": "execute_result"
    }
   ],
   "source": [
    "# add target column : 1 means it is a posology \n",
    "data_positive['Target'] = 1\n",
    "data_positive.tail()"
   ]
  },
  {
   "cell_type": "code",
   "execution_count": 10,
   "id": "765558b4-04ad-4243-b4c2-2440107c36ff",
   "metadata": {},
   "outputs": [],
   "source": [
    "# concatenate both data_positive and data_negative into a dataframe named data\n",
    "data = pd.concat([data_positive, data_negative], ignore_index=True)"
   ]
  },
  {
   "cell_type": "code",
   "execution_count": 11,
   "id": "44ca44d8-64b3-400d-9a73-b66dff2a2340",
   "metadata": {},
   "outputs": [
    {
     "name": "stdout",
     "output_type": "stream",
     "text": [
      "<class 'pandas.core.frame.DataFrame'>\n",
      "RangeIndex: 1953 entries, 0 to 1952\n",
      "Data columns (total 2 columns):\n",
      " #   Column  Non-Null Count  Dtype \n",
      "---  ------  --------------  ----- \n",
      " 0   Text    1952 non-null   object\n",
      " 1   Target  1953 non-null   int64 \n",
      "dtypes: int64(1), object(1)\n",
      "memory usage: 30.6+ KB\n"
     ]
    }
   ],
   "source": [
    "# summarize the shape, nan, columns, dtype visualisation\n",
    "data.info()"
   ]
  },
  {
   "cell_type": "markdown",
   "id": "a6b06976-9271-425d-b004-1cc4a1b3e26b",
   "metadata": {},
   "source": [
    "Conclusion :\n",
    "------------\n",
    "The shape of the data is 1953 rows and 2 columns we get Text and target as column's name.</br> \n",
    "Text column has one missing value. The text column type is object and the target's one is integer"
   ]
  },
  {
   "cell_type": "code",
   "execution_count": 12,
   "id": "f182746a-e671-4ef5-b02a-a7ef2dabcf61",
   "metadata": {},
   "outputs": [
    {
     "data": {
      "text/plain": [
       "Text      1\n",
       "Target    0\n",
       "dtype: int64"
      ]
     },
     "execution_count": 12,
     "metadata": {},
     "output_type": "execute_result"
    }
   ],
   "source": [
    "# check if nan is in the dataset\n",
    "data.isnull().sum()"
   ]
  },
  {
   "cell_type": "code",
   "execution_count": 13,
   "id": "acc1fb56-6450-4bdb-a354-7e0df54ea4b5",
   "metadata": {},
   "outputs": [
    {
     "data": {
      "text/plain": [
       "(array([558], dtype=int64), array([0], dtype=int64))"
      ]
     },
     "execution_count": 13,
     "metadata": {},
     "output_type": "execute_result"
    }
   ],
   "source": [
    "# check the row where the data is null\n",
    "np.where(pd.isnull(data))"
   ]
  },
  {
   "cell_type": "code",
   "execution_count": 14,
   "id": "f3286eb6-306d-41e1-a0c0-6b49b53dee20",
   "metadata": {},
   "outputs": [
    {
     "data": {
      "text/plain": [
       "Text      NaN\n",
       "Target      0\n",
       "Name: 558, dtype: object"
      ]
     },
     "execution_count": 14,
     "metadata": {},
     "output_type": "execute_result"
    }
   ],
   "source": [
    "# check if really 558's Text column's has NaN\n",
    "data.iloc[558]"
   ]
  },
  {
   "cell_type": "markdown",
   "id": "ba05dd7a-f32f-423c-9af5-ebd6d58acee4",
   "metadata": {},
   "source": [
    "Conclusion:\n",
    "-----------\n",
    "We get the index who has NaN value (558). It comes from non posology examples"
   ]
  },
  {
   "cell_type": "code",
   "execution_count": 15,
   "id": "9a56b7bc-886e-4b58-b674-2a0f4750c165",
   "metadata": {},
   "outputs": [],
   "source": [
    "# As we have only few row who has NaN value, let's remove it\n",
    "data.dropna(inplace=True)"
   ]
  },
  {
   "cell_type": "code",
   "execution_count": 16,
   "id": "ab433901-4d87-422f-a529-0ac559e3b2cb",
   "metadata": {},
   "outputs": [
    {
     "data": {
      "text/plain": [
       "Text      1952\n",
       "Target       2\n",
       "dtype: int64"
      ]
     },
     "execution_count": 16,
     "metadata": {},
     "output_type": "execute_result"
    }
   ],
   "source": [
    "# check unique values of each columns\n",
    "data.nunique()"
   ]
  },
  {
   "cell_type": "markdown",
   "id": "3955fe67-765d-4c85-9e09-562fb9757009",
   "metadata": {},
   "source": [
    "conclusion:\n",
    "-----------\n",
    "Our Text's column has 1952 unique value.\n",
    "Our Target's column has 2 unique value that lead to a binary classification."
   ]
  },
  {
   "cell_type": "code",
   "execution_count": 17,
   "id": "7ed6e04e-5767-4bab-8e02-632b8d9c17a0",
   "metadata": {},
   "outputs": [
    {
     "data": {
      "text/plain": [
       "0    1456\n",
       "1     496\n",
       "Name: Target, dtype: int64"
      ]
     },
     "execution_count": 17,
     "metadata": {},
     "output_type": "execute_result"
    }
   ],
   "source": [
    "# count unique values in Target column\n",
    "data.Target.value_counts()"
   ]
  },
  {
   "cell_type": "code",
   "execution_count": 18,
   "id": "d8cee204-3500-4052-96c2-5daed40ff45d",
   "metadata": {},
   "outputs": [
    {
     "data": {
      "text/plain": [
       "(1952, 2)"
      ]
     },
     "execution_count": 18,
     "metadata": {},
     "output_type": "execute_result"
    }
   ],
   "source": [
    "data.shape"
   ]
  },
  {
   "cell_type": "code",
   "execution_count": 19,
   "id": "b56f5a23-eeb6-4e80-bc43-3b01de151f84",
   "metadata": {},
   "outputs": [
    {
     "data": {
      "text/plain": [
       "<AxesSubplot:ylabel='Target'>"
      ]
     },
     "execution_count": 19,
     "metadata": {},
     "output_type": "execute_result"
    },
    {
     "data": {
      "image/png": "[encoded data removed]",
      "text/plain": [
       "<Figure size 432x288 with 1 Axes>"
      ]
     },
     "metadata": {},
     "output_type": "display_data"
    }
   ],
   "source": [
    "# distribution of targets values\n",
    "data.Target.value_counts().plot(kind='pie')"
   ]
  },
  {
   "cell_type": "markdown",
   "id": "ee804584-8b8f-4980-b475-2574ba8b59d4",
   "metadata": {},
   "source": [
    "conclusion :\n",
    "------------\n",
    "We get 1456 values for the class 0.\n",
    "We get 496 values for the class 1.\n",
    "that leads to imbalance data. \n",
    "So we are going to pay attention when splitting our dataframe.\n",
    "We have to make sure that the split is random to ensure that the original data repartition is preserved in each split."
   ]
  },
  {
   "cell_type": "markdown",
   "id": "30cd3a62-aeaa-4762-a9b7-848a92770932",
   "metadata": {},
   "source": [
    "# Length of all document"
   ]
  },
  {
   "cell_type": "code",
   "execution_count": 20,
   "id": "249aa083-8441-4845-bf18-ebd51c690620",
   "metadata": {},
   "outputs": [],
   "source": [
    "# get the length of all documents\n",
    "data['word_count'] = data.Text.apply(lambda i : len(i.split()))"
   ]
  },
  {
   "cell_type": "code",
   "execution_count": 21,
   "id": "d54d6b9a-3800-47b4-933c-fea70655347a",
   "metadata": {},
   "outputs": [
    {
     "data": {
      "text/html": [
       "<div>\n",
       "<style scoped>\n",
       "    .dataframe tbody tr th:only-of-type {\n",
       "        vertical-align: middle;\n",
       "    }\n",
       "\n",
       "    .dataframe tbody tr th {\n",
       "        vertical-align: top;\n",
       "    }\n",
       "\n",
       "    .dataframe thead th {\n",
       "        text-align: right;\n",
       "    }\n",
       "</style>\n",
       "<table border=\"1\" class=\"dataframe\">\n",
       "  <thead>\n",
       "    <tr style=\"text-align: right;\">\n",
       "      <th></th>\n",
       "      <th>Text</th>\n",
       "      <th>Target</th>\n",
       "      <th>word_count</th>\n",
       "    </tr>\n",
       "  </thead>\n",
       "  <tbody>\n",
       "    <tr>\n",
       "      <th>0</th>\n",
       "      <td>corgard 40 mg  1 comprimé le matin et le soir</td>\n",
       "      <td>1</td>\n",
       "      <td>10</td>\n",
       "    </tr>\n",
       "    <tr>\n",
       "      <th>1</th>\n",
       "      <td>peau atopique</td>\n",
       "      <td>1</td>\n",
       "      <td>2</td>\n",
       "    </tr>\n",
       "    <tr>\n",
       "      <th>2</th>\n",
       "      <td>quantité suffisante pour 14j</td>\n",
       "      <td>1</td>\n",
       "      <td>4</td>\n",
       "    </tr>\n",
       "    <tr>\n",
       "      <th>3</th>\n",
       "      <td>prendre 1/2 comprime toutes les 8 heures</td>\n",
       "      <td>1</td>\n",
       "      <td>7</td>\n",
       "    </tr>\n",
       "    <tr>\n",
       "      <th>4</th>\n",
       "      <td>19 kggraduation 1 a 4 fois par jour selon beso...</td>\n",
       "      <td>1</td>\n",
       "      <td>19</td>\n",
       "    </tr>\n",
       "    <tr>\n",
       "      <th>...</th>\n",
       "      <td>...</td>\n",
       "      <td>...</td>\n",
       "      <td>...</td>\n",
       "    </tr>\n",
       "    <tr>\n",
       "      <th>1948</th>\n",
       "      <td>personne recevant les soins (la ligne nom et p...</td>\n",
       "      <td>0</td>\n",
       "      <td>15</td>\n",
       "    </tr>\n",
       "    <tr>\n",
       "      <th>1949</th>\n",
       "      <td>identification du pharmacien ou du fouruisseur...</td>\n",
       "      <td>0</td>\n",
       "      <td>14</td>\n",
       "    </tr>\n",
       "    <tr>\n",
       "      <th>1950</th>\n",
       "      <td>|dispensation du 21/04/2021 a 12h43m30s</td>\n",
       "      <td>0</td>\n",
       "      <td>5</td>\n",
       "    </tr>\n",
       "    <tr>\n",
       "      <th>1951</th>\n",
       "      <td>pointe a pitre, le 12/04/2021</td>\n",
       "      <td>0</td>\n",
       "      <td>5</td>\n",
       "    </tr>\n",
       "    <tr>\n",
       "      <th>1952</th>\n",
       "      <td>paracetamol 1 g; voie orale; comprime</td>\n",
       "      <td>0</td>\n",
       "      <td>6</td>\n",
       "    </tr>\n",
       "  </tbody>\n",
       "</table>\n",
       "<p>1952 rows × 3 columns</p>\n",
       "</div>"
      ],
      "text/plain": [
       "                                                   Text  Target  word_count\n",
       "0         corgard 40 mg  1 comprimé le matin et le soir       1          10\n",
       "1                                         peau atopique       1           2\n",
       "2                          quantité suffisante pour 14j       1           4\n",
       "3              prendre 1/2 comprime toutes les 8 heures       1           7\n",
       "4     19 kggraduation 1 a 4 fois par jour selon beso...       1          19\n",
       "...                                                 ...     ...         ...\n",
       "1948  personne recevant les soins (la ligne nom et p...       0          15\n",
       "1949  identification du pharmacien ou du fouruisseur...       0          14\n",
       "1950            |dispensation du 21/04/2021 a 12h43m30s       0           5\n",
       "1951                      pointe a pitre, le 12/04/2021       0           5\n",
       "1952              paracetamol 1 g; voie orale; comprime       0           6\n",
       "\n",
       "[1952 rows x 3 columns]"
      ]
     },
     "execution_count": 21,
     "metadata": {},
     "output_type": "execute_result"
    }
   ],
   "source": [
    "data"
   ]
  },
  {
   "cell_type": "code",
   "execution_count": 22,
   "id": "0b6cb830-af5a-4b83-bea7-8a357e859532",
   "metadata": {},
   "outputs": [],
   "source": [
    "#temp_test = pd.DataFrame(temp_test)"
   ]
  },
  {
   "cell_type": "code",
   "execution_count": 23,
   "id": "3d4c10de-b365-4339-b3af-fbabe16ef150",
   "metadata": {},
   "outputs": [
    {
     "data": {
      "image/png": "[encoded data removed]",
      "text/plain": [
       "<Figure size 576x432 with 1 Axes>"
      ]
     },
     "metadata": {
      "needs_background": "light"
     },
     "output_type": "display_data"
    }
   ],
   "source": [
    "# plot temp_test boxplot\n",
    "plt.figure(figsize = (8,6))\n",
    "plt.title(\"Boxplot per target\")\n",
    "sns.boxplot(data=data, x='Target', y='word_count')\n",
    "plt.show()"
   ]
  },
  {
   "cell_type": "code",
   "execution_count": 24,
   "id": "b27477ae-ddab-4a72-bc3f-a43ae4b035a3",
   "metadata": {},
   "outputs": [
    {
     "data": {
      "text/plain": [
       "<Figure size 576x432 with 0 Axes>"
      ]
     },
     "metadata": {},
     "output_type": "display_data"
    },
    {
     "data": {
      "image/png": "[encoded data removed]",
      "text/plain": [
       "<Figure size 402.375x360 with 1 Axes>"
      ]
     },
     "metadata": {
      "needs_background": "light"
     },
     "output_type": "display_data"
    }
   ],
   "source": [
    "plt.figure(figsize = (8,6))\n",
    "sns.displot(data=data, x=\"word_count\", hue=\"Target\", multiple=\"stack\")\n",
    "plt.show()"
   ]
  },
  {
   "cell_type": "markdown",
   "id": "b52fe11e-cd4a-4f0c-a2ba-9ae8727e0594",
   "metadata": {},
   "source": [
    "Conclusion :\n",
    "-----------\n",
    "The documents of the first group (Target = 0) is in general shorter than the second group (Target = 1)"
   ]
  },
  {
   "cell_type": "code",
   "execution_count": 25,
   "id": "d2e85542-8636-4774-a083-283886c413f7",
   "metadata": {},
   "outputs": [],
   "source": [
    "## multivariate analysis"
   ]
  },
  {
   "cell_type": "code",
   "execution_count": 26,
   "id": "1ec2544b-3ffe-4c6e-9c35-e57ec0b04550",
   "metadata": {},
   "outputs": [],
   "source": [
    "# print N random documents "
   ]
  },
  {
   "cell_type": "code",
   "execution_count": 27,
   "id": "aa98415c-bd7e-44d5-94f4-f53c52f5f457",
   "metadata": {},
   "outputs": [],
   "source": [
    "data_sample = data.sample(20)"
   ]
  },
  {
   "cell_type": "code",
   "execution_count": 28,
   "id": "5b9c039d-81e4-4756-aa42-5c85cd97a246",
   "metadata": {},
   "outputs": [],
   "source": [
    "def print_sample(data,n_sample = 10 ):\n",
    "    \"\"\" print out n_sample from a document \"\"\"\n",
    "    sample = data.sample(n_sample)\n",
    "    for idx, text in sample.iterrows():\n",
    "        print(\"target\",text[\"Target\"],\":\",text[\"Text\"])"
   ]
  },
  {
   "cell_type": "code",
   "execution_count": 29,
   "id": "40fd81c9-7295-4cf2-a31b-cfe8b7f1e760",
   "metadata": {},
   "outputs": [
    {
     "data": {
      "text/html": [
       "<div>\n",
       "<style scoped>\n",
       "    .dataframe tbody tr th:only-of-type {\n",
       "        vertical-align: middle;\n",
       "    }\n",
       "\n",
       "    .dataframe tbody tr th {\n",
       "        vertical-align: top;\n",
       "    }\n",
       "\n",
       "    .dataframe thead th {\n",
       "        text-align: right;\n",
       "    }\n",
       "</style>\n",
       "<table border=\"1\" class=\"dataframe\">\n",
       "  <thead>\n",
       "    <tr style=\"text-align: right;\">\n",
       "      <th></th>\n",
       "      <th>Text</th>\n",
       "      <th>Target</th>\n",
       "      <th>word_count</th>\n",
       "    </tr>\n",
       "  </thead>\n",
       "  <tbody>\n",
       "    <tr>\n",
       "      <th>0</th>\n",
       "      <td>corgard 40 mg  1 comprimé le matin et le soir</td>\n",
       "      <td>1</td>\n",
       "      <td>10</td>\n",
       "    </tr>\n",
       "    <tr>\n",
       "      <th>1</th>\n",
       "      <td>peau atopique</td>\n",
       "      <td>1</td>\n",
       "      <td>2</td>\n",
       "    </tr>\n",
       "    <tr>\n",
       "      <th>2</th>\n",
       "      <td>quantité suffisante pour 14j</td>\n",
       "      <td>1</td>\n",
       "      <td>4</td>\n",
       "    </tr>\n",
       "    <tr>\n",
       "      <th>3</th>\n",
       "      <td>prendre 1/2 comprime toutes les 8 heures</td>\n",
       "      <td>1</td>\n",
       "      <td>7</td>\n",
       "    </tr>\n",
       "    <tr>\n",
       "      <th>4</th>\n",
       "      <td>19 kggraduation 1 a 4 fois par jour selon beso...</td>\n",
       "      <td>1</td>\n",
       "      <td>19</td>\n",
       "    </tr>\n",
       "  </tbody>\n",
       "</table>\n",
       "</div>"
      ],
      "text/plain": [
       "                                                Text  Target  word_count\n",
       "0      corgard 40 mg  1 comprimé le matin et le soir       1          10\n",
       "1                                      peau atopique       1           2\n",
       "2                       quantité suffisante pour 14j       1           4\n",
       "3           prendre 1/2 comprime toutes les 8 heures       1           7\n",
       "4  19 kggraduation 1 a 4 fois par jour selon beso...       1          19"
      ]
     },
     "execution_count": 29,
     "metadata": {},
     "output_type": "execute_result"
    }
   ],
   "source": [
    "# data1 is the dataframe where Target equal to 1\n",
    "data1 = data[data.Target == 1]\n",
    "data1.head()"
   ]
  },
  {
   "cell_type": "markdown",
   "id": "eed32068-f329-4220-b8df-957ae58e6d6b",
   "metadata": {},
   "source": [
    "### Print posology's document"
   ]
  },
  {
   "cell_type": "code",
   "execution_count": 30,
   "id": "173446e4-5722-4829-a25c-c329a0ba3738",
   "metadata": {},
   "outputs": [
    {
     "name": "stdout",
     "output_type": "stream",
     "text": [
      "target 1 : lactulose 1 sachet par jour\n",
      "target 1 : pendant 10 jours\n",
      "target 1 : prendre, par voie orale, 1 sachetdose le matin, pendant 5 jours\n",
      "target 1 : 1 comprimé si besoin\n",
      "target 1 : quantité suffisante pour 4 mois\n",
      "target 1 : 1 gelule par jour, pendant 7 jours (1 le soir)\n",
      "target 1 : 2 cuilleres a cafe matin, midi et soir pendant 3 mois\n",
      "target 1 : 1 comprime tous les 2 jours pendant 6 mois\n",
      "target 1 : 1 dose\n",
      "target 1 : venter 1g 2 fois par jour, pour 2 semaines\n"
     ]
    }
   ],
   "source": [
    "print_sample(data1)"
   ]
  },
  {
   "cell_type": "markdown",
   "id": "d2f02bcc-1700-4d94-a1bf-299872213b78",
   "metadata": {},
   "source": [
    "### Print non posology's document"
   ]
  },
  {
   "cell_type": "code",
   "execution_count": 31,
   "id": "f3d79568-eb32-48c8-9707-0342b34676a8",
   "metadata": {},
   "outputs": [
    {
     "name": "stdout",
     "output_type": "stream",
     "text": [
      "target 0 : i compierer var le pharmacien ou ie tournisseur qui delivre le medicament, le produit ou la prestation\n",
      "target 0 : reconstructrice et esthetiquo\n",
      "target 0 : reeducation perineale\n",
      "target 0 : medecine generale\n",
      "target 0 : terbutaline sulfate 5 mg/2 ml solution p inhal p nebulis (terbutaline mylan 5 mg/2 ml s p inh/nebulis en\n",
      "target 0 : en cas dergence, ppelez le 15 membre dune association agreee, le reglenent des hongraizes par cheque est aczepte\n",
      "target 0 : prescriptions relatives au traitement de l affection de longue duree reconnue (liste ou hors liste)\n",
      "target 0 : deux paires de chaussettes de contention classe 2 a repouveler\n",
      "target 0 : et dentaire\n",
      "target 0 : 1/ prorhinel\n"
     ]
    }
   ],
   "source": [
    "print_sample(data[data['Target']==0])"
   ]
  },
  {
   "cell_type": "markdown",
   "id": "893742ee-1c8a-4612-bee9-a02460d27d5a",
   "metadata": {},
   "source": [
    "## Text processing"
   ]
  },
  {
   "cell_type": "code",
   "execution_count": 32,
   "id": "0f761476-cd2d-4f3a-9cca-a469368c3652",
   "metadata": {},
   "outputs": [
    {
     "data": {
      "text/plain": [
       "' stilnox 10 mg cpr pell sec 2plq/7 (14) (zolpidem tartrate dix milligrammes comprime)'"
      ]
     },
     "execution_count": 32,
     "metadata": {},
     "output_type": "execute_result"
    }
   ],
   "source": [
    "# work on a specific document\n",
    "# doc = data.sample(35)\n",
    "doc = data.loc[1341]\n",
    "doc = doc['Text']\n",
    "doc"
   ]
  },
  {
   "cell_type": "code",
   "execution_count": 33,
   "id": "d9df26b0-7bcc-42e4-a5ed-4d86f33087e2",
   "metadata": {},
   "outputs": [
    {
     "data": {
      "text/plain": [
       "' stilnox 10 mg cpr pell sec 2plq/7 (14) (zolpidem tartrate dix milligrammes comprime)'"
      ]
     },
     "execution_count": 33,
     "metadata": {},
     "output_type": "execute_result"
    }
   ],
   "source": [
    "# lower\n",
    "doc = doc.lower()\n",
    "doc"
   ]
  },
  {
   "cell_type": "code",
   "execution_count": 34,
   "id": "3c49af25-4c5a-4384-a68c-e9a8d4fca303",
   "metadata": {},
   "outputs": [
    {
     "data": {
      "text/plain": [
       "['stilnox',\n",
       " '10',\n",
       " 'mg',\n",
       " 'cpr',\n",
       " 'pell',\n",
       " 'sec',\n",
       " '2plq/7',\n",
       " '(',\n",
       " '14',\n",
       " ')',\n",
       " '(',\n",
       " 'zolpidem',\n",
       " 'tartrate',\n",
       " 'dix',\n",
       " 'milligrammes',\n",
       " 'comprime',\n",
       " ')']"
      ]
     },
     "execution_count": 34,
     "metadata": {},
     "output_type": "execute_result"
    }
   ],
   "source": [
    "# # tokenization\n",
    "tokens = word_tokenize(doc)\n",
    "tokens"
   ]
  },
  {
   "cell_type": "code",
   "execution_count": 35,
   "id": "a5bc55fc-2276-4011-a058-52729bf933d2",
   "metadata": {},
   "outputs": [
    {
     "data": {
      "text/plain": [
       "17"
      ]
     },
     "execution_count": 35,
     "metadata": {},
     "output_type": "execute_result"
    }
   ],
   "source": [
    "# length of all tokens in a specific document\n",
    "len(tokens)"
   ]
  },
  {
   "cell_type": "code",
   "execution_count": 36,
   "id": "4fa80347-96ea-4a31-8f36-79303ae185f2",
   "metadata": {},
   "outputs": [
    {
     "data": {
      "text/plain": [
       "15"
      ]
     },
     "execution_count": 36,
     "metadata": {},
     "output_type": "execute_result"
    }
   ],
   "source": [
    "# length of unique tokens in a specific document\n",
    "len(set(tokens))"
   ]
  },
  {
   "cell_type": "code",
   "execution_count": 37,
   "id": "5c3abf9e-9e71-4dfa-aad2-3a6b2b437b8f",
   "metadata": {},
   "outputs": [],
   "source": [
    "def display_token_info(tokens):\n",
    "    \"\"\"\" display info about tokens \"\"\"\n",
    "    print(f\"nombre de tokens {len(tokens)}, nombre de tokens uniques {len(set(tokens))}\")\n",
    "    print(tokens[:40])\n",
    "    "
   ]
  },
  {
   "cell_type": "code",
   "execution_count": 38,
   "id": "1d72887f-e54f-4da5-aeee-f15def9f521b",
   "metadata": {},
   "outputs": [
    {
     "name": "stdout",
     "output_type": "stream",
     "text": [
      "nombre de tokens 17, nombre de tokens uniques 15\n",
      "['stilnox', '10', 'mg', 'cpr', 'pell', 'sec', '2plq/7', '(', '14', ')', '(', 'zolpidem', 'tartrate', 'dix', 'milligrammes', 'comprime', ')']\n"
     ]
    }
   ],
   "source": [
    "display_token_info(tokens)"
   ]
  },
  {
   "cell_type": "code",
   "execution_count": 39,
   "id": "adc7a1f8-bcf8-4b93-81b9-864cbd7bf2cb",
   "metadata": {},
   "outputs": [],
   "source": [
    "# french stopwords\n",
    "stopwords = nltk.corpus.stopwords.words('french')"
   ]
  },
  {
   "cell_type": "code",
   "execution_count": 40,
   "id": "71907986-3949-427a-b20b-14ae2aec18c3",
   "metadata": {},
   "outputs": [
    {
     "name": "stdout",
     "output_type": "stream",
     "text": [
      "nombre de tokens 17, nombre de tokens uniques 15\n",
      "['stilnox', '10', 'mg', 'cpr', 'pell', 'sec', '2plq/7', '(', '14', ')', '(', 'zolpidem', 'tartrate', 'dix', 'milligrammes', 'comprime', ')']\n"
     ]
    }
   ],
   "source": [
    "# filter tokens not present in stopwords\n",
    "tokens = [t for t in tokens if not t in stopwords]\n",
    "display_token_info(tokens)"
   ]
  },
  {
   "cell_type": "code",
   "execution_count": 41,
   "id": "1f2e5a7e-8d14-407a-8bd9-cb4571bead27",
   "metadata": {},
   "outputs": [],
   "source": [
    "# tokenizer using regular expression to keep alphanumeric , under_score \n",
    "tknizer = nltk.RegexpTokenizer(r\"\\w+\")\n",
    "tokens = tknizer.tokenize(doc)\n",
    "tokens = [t for t in tokens if not t in stopwords]"
   ]
  },
  {
   "cell_type": "code",
   "execution_count": 42,
   "id": "58fdd310-d527-4090-a5ac-d2e3ea19a4f4",
   "metadata": {},
   "outputs": [
    {
     "name": "stdout",
     "output_type": "stream",
     "text": [
      "nombre de tokens 14, nombre de tokens uniques 14\n",
      "['stilnox', '10', 'mg', 'cpr', 'pell', 'sec', '2plq', '7', '14', 'zolpidem', 'tartrate', 'dix', 'milligrammes', 'comprime']\n"
     ]
    }
   ],
   "source": [
    "display_token_info(tokens)"
   ]
  },
  {
   "cell_type": "markdown",
   "id": "e6a2bd16-0bd9-40b3-be6a-26e02d6cc465",
   "metadata": {},
   "source": [
    "## First cleaning function"
   ]
  },
  {
   "cell_type": "code",
   "execution_count": 43,
   "id": "c5875f47-8a13-4710-876f-46ee830d8c99",
   "metadata": {},
   "outputs": [],
   "source": [
    "# cleaning function\n",
    "def cleaning_function(doc,rejoin = False ):\n",
    "    \"\"\" function of text processing : it returns cleaned tokens or if rejoin (it joins cleaned tokens) \"\"\"\n",
    "    # lower and delete spaces\n",
    "    doc = doc.lower().strip()\n",
    "    # tokenize\n",
    "    tokenizer = nltk.RegexpTokenizer(r\"\\w+\")\n",
    "    tokens = tokenizer.tokenize(doc)\n",
    "    # stopwords\n",
    "    stopwords = nltk.corpus.stopwords.words(\"french\")\n",
    "    # list cleaned tokens\n",
    "    cleaned_tokens = [t for t in tokens if not t in stopwords]\n",
    "    # \n",
    "    if rejoin:\n",
    "        return \" \".join(cleaned_tokens)\n",
    "    else : \n",
    "        return cleaned_tokens"
   ]
  },
  {
   "cell_type": "code",
   "execution_count": 44,
   "id": "a4c350ad-b1ab-4b17-a224-63ab373d5430",
   "metadata": {},
   "outputs": [],
   "source": [
    "tokens = cleaning_function(doc)"
   ]
  },
  {
   "cell_type": "code",
   "execution_count": 45,
   "id": "bbb21dc6-1ad8-445f-82ef-6306a186c3c7",
   "metadata": {},
   "outputs": [
    {
     "name": "stdout",
     "output_type": "stream",
     "text": [
      "nombre de tokens 14, nombre de tokens uniques 14\n",
      "['stilnox', '10', 'mg', 'cpr', 'pell', 'sec', '2plq', '7', '14', 'zolpidem', 'tartrate', 'dix', 'milligrammes', 'comprime']\n"
     ]
    }
   ],
   "source": [
    "display_token_info(tokens)"
   ]
  },
  {
   "cell_type": "markdown",
   "id": "5f181a27-8027-486d-8a12-f6ae4d870a7e",
   "metadata": {},
   "source": [
    "## working on 1000 words from the entire corpus"
   ]
  },
  {
   "cell_type": "code",
   "execution_count": 46,
   "id": "82a3c1c8-cf95-4428-acee-c646befc7929",
   "metadata": {},
   "outputs": [
    {
     "data": {
      "text/plain": [
       "'corgard 40 mg  1 comprimé le matin et le soir peau atopique quantité suffisante pour 14j prendre 1/2 comprime toutes les 8 heures 19 kggraduation 1 a 4 fois par jour selon besoin, en espacant les prises de 6h minimum pendant 3 une ampoule buvable tous les 2mois 6 mois prendre 1 comprime le matin  prendre, par voie orale, 1 ampoule par prise 1/2 mg par semaine, pendant 3 mois > a poser 1 heure avant les vaccins, 1 sur chaque cuisse prendre 1a 2 cuijlerees a renourelec au bout de 6 heures en cas de besoin pendant 2 semaines 1 comprime toutes les 6 heures (max3 cmprimesjour) si douelurs ou fievre sup a 38c pendent 6 jours 12 comprimé le soir pendant 8 semaine(s) ug par jour, en fonction de la reponse au traitement,, en un matin et soir pendant six jours 1 ampoule de vitamine d a la rentree une gelule a la fin dun repas au tout debut des regles le matin, a prendre, par voie vaginale, 1 ovule au coucher et alterner avee elution ducray  rulid 150 mg 1 matin et soir quantité suffisante pour 5'"
      ]
     },
     "execution_count": 46,
     "metadata": {},
     "output_type": "execute_result"
    }
   ],
   "source": [
    "# build raw corpus\n",
    "raw_corpus = \" \".join(data.Text.values)\n",
    "raw_corpus[:1000]"
   ]
  },
  {
   "cell_type": "code",
   "execution_count": 47,
   "id": "a84ea9cc-21b0-4288-b0c7-a474060e986f",
   "metadata": {},
   "outputs": [
    {
     "name": "stdout",
     "output_type": "stream",
     "text": [
      "nombre de tokens 9651, nombre de tokens uniques 2866\n",
      "['corgard', '40', 'mg', '1', 'comprimé', 'matin', 'soir', 'peau', 'atopique', 'quantité', 'suffisante', '14j', 'prendre', '1', '2', 'comprime', 'toutes', '8', 'heures', '19', 'kggraduation', '1', 'a', '4', 'fois', 'jour', 'selon', 'besoin', 'espacant', 'prises', '6h', 'minimum', 'pendant', '3', 'ampoule', 'buvable', 'tous', '2mois', '6', 'mois']\n"
     ]
    }
   ],
   "source": [
    "# process the corpus\n",
    "corpus = cleaning_function(raw_corpus)\n",
    "display_token_info(corpus)"
   ]
  },
  {
   "cell_type": "code",
   "execution_count": 48,
   "id": "81a46039-3019-4599-9237-9748898e15e4",
   "metadata": {},
   "outputs": [],
   "source": [
    "# tokens value count\n",
    "tmp = pd.Series(corpus).value_counts()"
   ]
  },
  {
   "cell_type": "code",
   "execution_count": 49,
   "id": "678a3e38-6538-40ce-8f88-06b71192c34d",
   "metadata": {},
   "outputs": [
    {
     "data": {
      "text/plain": [
       "1           378\n",
       "a           228\n",
       "2           173\n",
       "mg          166\n",
       "pendant     156\n",
       "matin       129\n",
       "3           128\n",
       "comprime    128\n",
       "mois        124\n",
       "soir        117\n",
       "dtype: int64"
      ]
     },
     "execution_count": 49,
     "metadata": {},
     "output_type": "execute_result"
    }
   ],
   "source": [
    "# display most tokens\n",
    "tmp.head(10)"
   ]
  },
  {
   "cell_type": "code",
   "execution_count": 50,
   "id": "ed821091-96b5-4a82-b9b0-a34479944be5",
   "metadata": {},
   "outputs": [
    {
     "data": {
      "text/plain": [
       "dor                  1\n",
       "val                  1\n",
       "78000                1\n",
       "stav                 1\n",
       "patieni              1\n",
       "tanhlificadon        1\n",
       "electromyographie    1\n",
       "chirurgle            1\n",
       "dcetre               1\n",
       "pitre                1\n",
       "dtype: int64"
      ]
     },
     "execution_count": 50,
     "metadata": {},
     "output_type": "execute_result"
    }
   ],
   "source": [
    "tmp.tail(10)"
   ]
  },
  {
   "cell_type": "code",
   "execution_count": 51,
   "id": "dd212eb7-6702-4e81-b2d1-0a92981ee61f",
   "metadata": {},
   "outputs": [
    {
     "data": {
      "text/plain": [
       "count    2866.000000\n",
       "mean        3.367411\n",
       "std        12.658491\n",
       "min         1.000000\n",
       "25%         1.000000\n",
       "50%         1.000000\n",
       "75%         2.000000\n",
       "max       378.000000\n",
       "dtype: float64"
      ]
     },
     "execution_count": 51,
     "metadata": {},
     "output_type": "execute_result"
    }
   ],
   "source": [
    "tmp.describe()"
   ]
  },
  {
   "cell_type": "code",
   "execution_count": 52,
   "id": "5ebed62b-00da-443b-914c-9cfff4ba54a0",
   "metadata": {},
   "outputs": [
    {
     "data": {
      "text/plain": [
       "1938"
      ]
     },
     "execution_count": 52,
     "metadata": {},
     "output_type": "execute_result"
    }
   ],
   "source": [
    "# list rare tokens\n",
    "# unique words -> not useful (hypothesis)\n",
    "tmp = pd.Series(corpus).value_counts()\n",
    "list_unique_words = tmp[tmp==1]\n",
    "len(list_unique_words)"
   ]
  },
  {
   "cell_type": "code",
   "execution_count": 53,
   "id": "2c44ca4c-2094-42ec-9638-235f45e8a04c",
   "metadata": {},
   "outputs": [],
   "source": [
    "# save \n",
    "tmp = pd.DataFrame({\"unique words\": list_unique_words})"
   ]
  },
  {
   "cell_type": "code",
   "execution_count": 54,
   "id": "557b17e4-9369-4b0f-bbc5-c853fd656fed",
   "metadata": {},
   "outputs": [],
   "source": [
    "tmp.to_csv(\"list_unique_words.csv\", index= False)"
   ]
  },
  {
   "cell_type": "code",
   "execution_count": 55,
   "id": "b29f4a61-1462-4b44-b880-962022c688d8",
   "metadata": {},
   "outputs": [
    {
     "data": {
      "text/plain": [
       "2598"
      ]
     },
     "execution_count": 55,
     "metadata": {},
     "output_type": "execute_result"
    }
   ],
   "source": [
    "# same for at least 5 times\n",
    "tmp = pd.Series(corpus).value_counts()\n",
    "list_five_words = tmp[tmp<=5]\n",
    "len(list_five_words)"
   ]
  },
  {
   "cell_type": "code",
   "execution_count": 56,
   "id": "a2a71aa4-c1ff-409c-9e72-c7a2fbe0e2cf",
   "metadata": {},
   "outputs": [],
   "source": [
    "# save \n",
    "tmp = pd.DataFrame({\"5 words\": list_five_words})\n",
    "tmp.to_csv(\"list_five_words.csv\", index= False)"
   ]
  },
  {
   "cell_type": "code",
   "execution_count": 57,
   "id": "9ee6d157-f217-4e0e-bb49-21cf7c13c86b",
   "metadata": {},
   "outputs": [
    {
     "data": {
      "text/plain": [
       "2724"
      ]
     },
     "execution_count": 57,
     "metadata": {},
     "output_type": "execute_result"
    }
   ],
   "source": [
    "# list rare tokens\n",
    "# unique words -> not useful\n",
    "tmp = pd.Series(corpus).value_counts()\n",
    "list_ten_words = tmp[tmp<=10]\n",
    "len(list_ten_words)"
   ]
  },
  {
   "cell_type": "code",
   "execution_count": 58,
   "id": "284cd746-8cb7-440f-a191-cd6f2e0b0f49",
   "metadata": {},
   "outputs": [],
   "source": [
    "# save \n",
    "tmp = pd.DataFrame({\"10 words\": list_five_words})\n",
    "tmp.to_csv(\"list_ten_words.csv\", index= False)"
   ]
  },
  {
   "cell_type": "markdown",
   "id": "df6f97e9-8b8d-44c5-a81e-03d2a869a08c",
   "metadata": {},
   "source": [
    "## second cleaning function"
   ]
  },
  {
   "cell_type": "code",
   "execution_count": 59,
   "id": "c03bb233-c7e8-43d7-9260-a1ab0fe057b2",
   "metadata": {},
   "outputs": [],
   "source": [
    "# cleaning function\n",
    "def cleaning_function2(doc,rejoin = False, list_rare_words = None, min_len_words = 3, force_is_alpha = True ):\n",
    "    \"\"\" function of text processing : it returns cleaned tokens or if rejoin (it joins cleaned tokens) \"\"\"\n",
    "    \n",
    "    if not list_rare_words :\n",
    "        list_rare_words = []\n",
    "    # lower and delete spaces\n",
    "    doc = doc.lower().strip()\n",
    "    # tokenize\n",
    "    tokenizer = nltk.RegexpTokenizer(r\"\\w+\")\n",
    "    tokens = tokenizer.tokenize(doc)\n",
    "    # stopwords\n",
    "    stopwords = nltk.corpus.stopwords.words(\"french\")\n",
    "    # list cleaned tokens\n",
    "    cleaned_tokens = [t for t in tokens if t not in stopwords]\n",
    "    # no rare tokens\n",
    "    no_rare_tokens = [t for t in cleaned_tokens if t not in list_rare_words]\n",
    "    # no more len words \n",
    "    no_more_len_words = [t for t in no_rare_tokens if len(t) >= min_len_words]\n",
    "    # only alpha chars\n",
    "    if force_is_alpha:\n",
    "        alpha_tokens = [t for t in no_more_len_words if t.isalpha()]\n",
    "    else : \n",
    "        alpha_tokens = no_more_len_words\n",
    "    # \n",
    "    if rejoin:\n",
    "        return \" \".join(alpha_tokens)\n",
    "    else : \n",
    "        return alpha_tokens"
   ]
  },
  {
   "cell_type": "code",
   "execution_count": 60,
   "id": "50f2230b-80d3-4e3f-b7d3-175ed5a96fa7",
   "metadata": {},
   "outputs": [
    {
     "name": "stdout",
     "output_type": "stream",
     "text": [
      "nombre de tokens 9651, nombre de tokens uniques 2866\n",
      "['corgard', '40', 'mg', '1', 'comprimé', 'matin', 'soir', 'peau', 'atopique', 'quantité', 'suffisante', '14j', 'prendre', '1', '2', 'comprime', 'toutes', '8', 'heures', '19', 'kggraduation', '1', 'a', '4', 'fois', 'jour', 'selon', 'besoin', 'espacant', 'prises', '6h', 'minimum', 'pendant', '3', 'ampoule', 'buvable', 'tous', '2mois', '6', 'mois']\n"
     ]
    }
   ],
   "source": [
    "display_token_info(corpus)"
   ]
  },
  {
   "cell_type": "code",
   "execution_count": 61,
   "id": "b8c1c6c2-671f-4d06-9c69-c91b7683c089",
   "metadata": {},
   "outputs": [
    {
     "data": {
      "text/plain": [
       "9651"
      ]
     },
     "execution_count": 61,
     "metadata": {},
     "output_type": "execute_result"
    }
   ],
   "source": [
    "len(corpus)"
   ]
  },
  {
   "cell_type": "code",
   "execution_count": 62,
   "id": "b34be0d9-afc6-4295-8ec8-91b197996893",
   "metadata": {},
   "outputs": [
    {
     "data": {
      "text/plain": [
       "2866"
      ]
     },
     "execution_count": 62,
     "metadata": {},
     "output_type": "execute_result"
    }
   ],
   "source": [
    "len(set(corpus))"
   ]
  },
  {
   "cell_type": "code",
   "execution_count": 63,
   "id": "7eb1113c-7561-436d-b2b3-d396cc8035db",
   "metadata": {},
   "outputs": [],
   "source": [
    "# apply the second cleaning function on the corpus\n",
    "corpus = cleaning_function2(raw_corpus,list_rare_words=list(list_unique_words))"
   ]
  },
  {
   "cell_type": "code",
   "execution_count": 64,
   "id": "7969c4ca-80fb-4336-afcf-2c56468fea78",
   "metadata": {},
   "outputs": [
    {
     "name": "stdout",
     "output_type": "stream",
     "text": [
      "nombre de tokens 6535, nombre de tokens uniques 2334\n",
      "['corgard', 'comprimé', 'matin', 'soir', 'peau', 'atopique', 'quantité', 'suffisante', 'prendre', 'comprime', 'toutes', 'heures', 'kggraduation', 'fois', 'jour', 'selon', 'besoin', 'espacant', 'prises', 'minimum', 'pendant', 'ampoule', 'buvable', 'tous', 'mois', 'prendre', 'comprime', 'matin', 'prendre', 'voie', 'orale', 'ampoule', 'prise', 'semaine', 'pendant', 'mois', 'poser', 'heure', 'avant', 'vaccins']\n"
     ]
    }
   ],
   "source": [
    "display_token_info(corpus)"
   ]
  },
  {
   "cell_type": "code",
   "execution_count": 65,
   "id": "3f654245-891c-47e4-9bb0-446b5bdc0e2e",
   "metadata": {},
   "outputs": [
    {
     "data": {
      "text/plain": [
       "2334"
      ]
     },
     "execution_count": 65,
     "metadata": {},
     "output_type": "execute_result"
    }
   ],
   "source": [
    "len(set(corpus))"
   ]
  },
  {
   "cell_type": "code",
   "execution_count": 66,
   "id": "5237f187-a46d-4c57-b4b6-185cd4dd0621",
   "metadata": {},
   "outputs": [],
   "source": [
    "## stem and lem\n",
    "stemmer=nltk.stem.SnowballStemmer('french')"
   ]
  },
  {
   "cell_type": "code",
   "execution_count": 67,
   "id": "d0576537-f4b8-40f9-b75d-ad12c5dae677",
   "metadata": {},
   "outputs": [],
   "source": [
    "text = \"Je suis emmanuel gnofam de la places ; je Suis thesard en NLP à posos une entreprise de la place\""
   ]
  },
  {
   "cell_type": "code",
   "execution_count": 68,
   "id": "1560fa3c-8fce-4705-b96c-9c42476b2d3c",
   "metadata": {},
   "outputs": [
    {
     "data": {
      "text/plain": [
       "['je',\n",
       " 'suis',\n",
       " 'emmanuel',\n",
       " 'gnofam',\n",
       " 'de',\n",
       " 'la',\n",
       " 'plac',\n",
       " ';',\n",
       " 'je',\n",
       " 'suis',\n",
       " 'thesard',\n",
       " 'en',\n",
       " 'nlp',\n",
       " 'à',\n",
       " 'posos',\n",
       " 'une',\n",
       " 'entrepris',\n",
       " 'de',\n",
       " 'la',\n",
       " 'plac']"
      ]
     },
     "execution_count": 68,
     "metadata": {},
     "output_type": "execute_result"
    }
   ],
   "source": [
    "list_stem = [stemmer.stem(m) for m in text.split(\" \")]\n",
    "list_stem"
   ]
  },
  {
   "cell_type": "markdown",
   "id": "7f685b20-33ef-47e5-8d4d-768856591feb",
   "metadata": {},
   "source": [
    "## third function"
   ]
  },
  {
   "cell_type": "code",
   "execution_count": 69,
   "id": "b88ec473-f662-411b-b07c-9380eb632480",
   "metadata": {},
   "outputs": [],
   "source": [
    "# cleaning function\n",
    "def cleaning_function3(doc,rejoin = False,list_rare_words = None, min_len_words = 3, force_is_alpha = True ):\n",
    "    \"\"\" function of text processing : it returns cleaned tokens or if rejoin (it joins cleaned tokens) \"\"\"\n",
    "    \n",
    "    if not list_rare_words :\n",
    "        list_rare_words = []\n",
    "    # lower and delete spaces\n",
    "    doc = doc.lower().strip()\n",
    "    # tokenize\n",
    "    tokenizer = nltk.RegexpTokenizer(r\"\\w+\")\n",
    "    tokens = tokenizer.tokenize(doc)\n",
    "    # stopwords\n",
    "    stopwords = nltk.corpus.stopwords.words(\"french\")\n",
    "    # list cleaned tokens\n",
    "    cleaned_tokens = [t for t in tokens if t not in stopwords]\n",
    "    # no rare tokens\n",
    "    no_rare_tokens = [t for t in cleaned_tokens if t not in list_rare_words]\n",
    "    # no more len words \n",
    "    no_more_len_words = [t for t in no_rare_tokens if len(t) >= min_len_words]\n",
    "    # only alpha chars\n",
    "    if force_is_alpha:\n",
    "        alpha_tokens = [t for t in no_more_len_words if t.isalpha()]\n",
    "    else : \n",
    "        alpha_tokens = no_more_len_words\n",
    "    # stemmer \n",
    "    stemmer_tokens = [stemmer.stem(m) for m in alpha_tokens]\n",
    "    # \n",
    "    if rejoin:\n",
    "        return \" \".join(stemmer_tokens)\n",
    "    else : \n",
    "        return stemmer_tokens"
   ]
  },
  {
   "cell_type": "code",
   "execution_count": 70,
   "id": "0878837d-1332-46c1-b883-6f42204c962f",
   "metadata": {},
   "outputs": [],
   "source": [
    "corpus = cleaning_function3(raw_corpus, rejoin=False,list_rare_words=list(list_unique_words))"
   ]
  },
  {
   "cell_type": "code",
   "execution_count": 71,
   "id": "6ecbfca1-4292-427e-b3de-a380695c9217",
   "metadata": {},
   "outputs": [
    {
     "data": {
      "text/plain": [
       "6535"
      ]
     },
     "execution_count": 71,
     "metadata": {},
     "output_type": "execute_result"
    }
   ],
   "source": [
    "len(corpus)"
   ]
  },
  {
   "cell_type": "code",
   "execution_count": 72,
   "id": "9b960bc1-b1ba-4835-9600-6368c38caef7",
   "metadata": {},
   "outputs": [
    {
     "data": {
      "text/plain": [
       "2129"
      ]
     },
     "execution_count": 72,
     "metadata": {},
     "output_type": "execute_result"
    }
   ],
   "source": [
    "len(set(corpus))"
   ]
  },
  {
   "cell_type": "markdown",
   "id": "981c0361-a80f-48c4-aacd-6441e554533d",
   "metadata": {},
   "source": [
    "## same process with list_five_words and list_ten_words"
   ]
  },
  {
   "cell_type": "code",
   "execution_count": 73,
   "id": "70b65b8b-d07a-427e-a10d-039add8f6038",
   "metadata": {},
   "outputs": [],
   "source": [
    "## wordcloud"
   ]
  },
  {
   "cell_type": "code",
   "execution_count": 74,
   "id": "dcd2fb90-2cc5-4ab0-99d7-999297c6f7dd",
   "metadata": {},
   "outputs": [
    {
     "data": {
      "text/plain": [
       "<matplotlib.image.AxesImage at 0x2064e41da60>"
      ]
     },
     "execution_count": 74,
     "metadata": {},
     "output_type": "execute_result"
    },
    {
     "data": {
      "image/png": "[encoded data removed]",
      "text/plain": [
       "<Figure size 432x288 with 1 Axes>"
      ]
     },
     "metadata": {
      "needs_background": "light"
     },
     "output_type": "display_data"
    }
   ],
   "source": [
    "wordcloud = WordCloud(background_color='white', stopwords=[], max_words=50).generate(\" \".join(corpus))\n",
    "plt.imshow(wordcloud)"
   ]
  },
  {
   "cell_type": "markdown",
   "id": "68733cc0-fd9b-4a8b-8589-eb45d15a1601",
   "metadata": {},
   "source": [
    "## divide the corpus"
   ]
  },
  {
   "cell_type": "code",
   "execution_count": 75,
   "id": "5f6976dd-7723-4471-b6cc-7148cafe37a6",
   "metadata": {},
   "outputs": [
    {
     "data": {
      "text/html": [
       "<div>\n",
       "<style scoped>\n",
       "    .dataframe tbody tr th:only-of-type {\n",
       "        vertical-align: middle;\n",
       "    }\n",
       "\n",
       "    .dataframe tbody tr th {\n",
       "        vertical-align: top;\n",
       "    }\n",
       "\n",
       "    .dataframe thead th {\n",
       "        text-align: right;\n",
       "    }\n",
       "</style>\n",
       "<table border=\"1\" class=\"dataframe\">\n",
       "  <thead>\n",
       "    <tr style=\"text-align: right;\">\n",
       "      <th></th>\n",
       "      <th>Text</th>\n",
       "      <th>Target</th>\n",
       "      <th>word_count</th>\n",
       "    </tr>\n",
       "  </thead>\n",
       "  <tbody>\n",
       "    <tr>\n",
       "      <th>0</th>\n",
       "      <td>corgard 40 mg  1 comprimé le matin et le soir</td>\n",
       "      <td>1</td>\n",
       "      <td>10</td>\n",
       "    </tr>\n",
       "    <tr>\n",
       "      <th>1</th>\n",
       "      <td>peau atopique</td>\n",
       "      <td>1</td>\n",
       "      <td>2</td>\n",
       "    </tr>\n",
       "    <tr>\n",
       "      <th>2</th>\n",
       "      <td>quantité suffisante pour 14j</td>\n",
       "      <td>1</td>\n",
       "      <td>4</td>\n",
       "    </tr>\n",
       "    <tr>\n",
       "      <th>3</th>\n",
       "      <td>prendre 1/2 comprime toutes les 8 heures</td>\n",
       "      <td>1</td>\n",
       "      <td>7</td>\n",
       "    </tr>\n",
       "    <tr>\n",
       "      <th>4</th>\n",
       "      <td>19 kggraduation 1 a 4 fois par jour selon beso...</td>\n",
       "      <td>1</td>\n",
       "      <td>19</td>\n",
       "    </tr>\n",
       "  </tbody>\n",
       "</table>\n",
       "</div>"
      ],
      "text/plain": [
       "                                                Text  Target  word_count\n",
       "0      corgard 40 mg  1 comprimé le matin et le soir       1          10\n",
       "1                                      peau atopique       1           2\n",
       "2                       quantité suffisante pour 14j       1           4\n",
       "3           prendre 1/2 comprime toutes les 8 heures       1           7\n",
       "4  19 kggraduation 1 a 4 fois par jour selon beso...       1          19"
      ]
     },
     "execution_count": 75,
     "metadata": {},
     "output_type": "execute_result"
    }
   ],
   "source": [
    "# dataframe 1 contains 1 as their target value\n",
    "df1 = data[data.Target == 1]\n",
    "df1.head()"
   ]
  },
  {
   "cell_type": "code",
   "execution_count": 76,
   "id": "c8ea9522-4b35-41a0-a9fa-b1d6d97f470e",
   "metadata": {},
   "outputs": [
    {
     "data": {
      "text/html": [
       "<div>\n",
       "<style scoped>\n",
       "    .dataframe tbody tr th:only-of-type {\n",
       "        vertical-align: middle;\n",
       "    }\n",
       "\n",
       "    .dataframe tbody tr th {\n",
       "        vertical-align: top;\n",
       "    }\n",
       "\n",
       "    .dataframe thead th {\n",
       "        text-align: right;\n",
       "    }\n",
       "</style>\n",
       "<table border=\"1\" class=\"dataframe\">\n",
       "  <thead>\n",
       "    <tr style=\"text-align: right;\">\n",
       "      <th></th>\n",
       "      <th>Text</th>\n",
       "      <th>Target</th>\n",
       "      <th>word_count</th>\n",
       "    </tr>\n",
       "  </thead>\n",
       "  <tbody>\n",
       "    <tr>\n",
       "      <th>496</th>\n",
       "      <td>ne 06/05/1995</td>\n",
       "      <td>0</td>\n",
       "      <td>2</td>\n",
       "    </tr>\n",
       "    <tr>\n",
       "      <th>497</th>\n",
       "      <td>centre dimagerie medicale pavillon</td>\n",
       "      <td>0</td>\n",
       "      <td>4</td>\n",
       "    </tr>\n",
       "    <tr>\n",
       "      <th>498</th>\n",
       "      <td>78,75eur</td>\n",
       "      <td>0</td>\n",
       "      <td>1</td>\n",
       "    </tr>\n",
       "    <tr>\n",
       "      <th>499</th>\n",
       "      <td>lundi 9h00/18h00</td>\n",
       "      <td>0</td>\n",
       "      <td>2</td>\n",
       "    </tr>\n",
       "    <tr>\n",
       "      <th>500</th>\n",
       "      <td>59100 roubaix</td>\n",
       "      <td>0</td>\n",
       "      <td>2</td>\n",
       "    </tr>\n",
       "  </tbody>\n",
       "</table>\n",
       "</div>"
      ],
      "text/plain": [
       "                                   Text  Target  word_count\n",
       "496                       ne 06/05/1995       0           2\n",
       "497  centre dimagerie medicale pavillon       0           4\n",
       "498                            78,75eur       0           1\n",
       "499                    lundi 9h00/18h00       0           2\n",
       "500                       59100 roubaix       0           2"
      ]
     },
     "execution_count": 76,
     "metadata": {},
     "output_type": "execute_result"
    }
   ],
   "source": [
    "# dataframe 0 contains 0 as their target value\n",
    "df0 = data[data.Target == 0]\n",
    "df0.head()"
   ]
  },
  {
   "cell_type": "code",
   "execution_count": 77,
   "id": "42b9f483-48cf-4b1c-8ec2-bc1bb426a508",
   "metadata": {},
   "outputs": [],
   "source": [
    "# corpus\n",
    "corpus1 = \" \".join(df1.Text)\n",
    "corpus0 = \" \".join(df0.Text)"
   ]
  },
  {
   "cell_type": "code",
   "execution_count": 78,
   "id": "68fabf0e-3807-4d15-a6a1-2c5279e32427",
   "metadata": {},
   "outputs": [
    {
     "data": {
      "text/plain": [
       "'corgard 40 mg  1 comprimé le matin et le soir peau atopique quantité suffisante pour 14j prendre 1/2 comprime toutes les 8 heures 19 kggraduation 1 a 4 fois par jour selon besoin, en espacant les prises de 6h minimum pendant 3 une ampoule buvable tous les 2mois 6 mois prendre 1 comprime le matin  prendre, par voie orale, 1 ampoule par prise 1/2 mg par semaine, pendant 3 mois > a poser 1 heure avant les vaccins, 1 sur chaque cuisse prendre 1a 2 cuijlerees a renourelec au bout de 6 heures en cas de besoin pendant 2 semaines 1 comprime toutes les 6 heures (max3 cmprimesjour) si douelurs ou fievre sup a 38c pendent 6 jours 12 comprimé le soir pendant 8 semaine(s) ug par jour, en fonction de la reponse au traitement,, en un matin et soir pendant six jours 1 ampoule de vitamine d a la rentree une gelule a la fin dun repas au tout debut des regles le matin, a prendre, par voie vaginale, 1 ovule au coucher et alterner avee elution ducray  rulid 150 mg 1 matin et soir quantité suffisante pour 5'"
      ]
     },
     "execution_count": 78,
     "metadata": {},
     "output_type": "execute_result"
    }
   ],
   "source": [
    "corpus1[:1000]"
   ]
  },
  {
   "cell_type": "code",
   "execution_count": 79,
   "id": "7b9380c9-f7c1-4fc3-99ea-416638ef48f7",
   "metadata": {},
   "outputs": [
    {
     "data": {
      "text/plain": [
       "'ne 06/05/1995 centre dimagerie medicale pavillon 78,75eur lundi 9h00/18h00 59100 roubaix agee de 56 ans pulmicort img aeroso! pharmacie de la gare mardi 9h00/18h00 12140 clamart 92130 issylesmoulineaux cabin hopitaux universitaires paris centre scannez ce code barre pour retrouver cette ordonnance prescpt oper mercredi 15 septembre 2021 issy les moulineaux, 05/10/2021 monyant total fettovs 25 47 03 triafem) cpr 3x21  1 airomir autohaler 100 microg susp(salbutamol 100 ug suspension pour inhalation) inexium 20 9h30 a 12h 30, 14h a 19h produit ou prestation, indiquer sa designation precise  5- daflon 500mg cpr 30 (fraction flavonoique) 4) amitriptyline (chlorhydrate) 40 mg/ml solution buvable en gte ans service des maladies mandibulairo 15 septembre 2021 chirurgie gynecologique et mammaire praticien a la fondation ophtalmologique a de rothschild a meudon, le 17/09/2021 d sylvaine hamelin > colchicine 1 mg fasquelle  rabeprazole arrow generiques 20 mg cpr gastrores plq/14 bote) |dispensati'"
      ]
     },
     "execution_count": 79,
     "metadata": {},
     "output_type": "execute_result"
    }
   ],
   "source": [
    "corpus0[:1000]"
   ]
  },
  {
   "cell_type": "markdown",
   "id": "46222c76-415e-4afe-a607-0ffb71c7a7c4",
   "metadata": {},
   "source": [
    "# process both of them"
   ]
  },
  {
   "cell_type": "code",
   "execution_count": 80,
   "id": "38051dfc-8b55-4c02-8cee-de042e1f9828",
   "metadata": {},
   "outputs": [],
   "source": [
    "corpus1 = cleaning_function3(corpus1,rejoin=False,list_rare_words=list(list_unique_words))"
   ]
  },
  {
   "cell_type": "code",
   "execution_count": 81,
   "id": "baa7f1f9-f837-4ab1-a262-2694176470f1",
   "metadata": {},
   "outputs": [],
   "source": [
    "corpus0 = cleaning_function3(corpus0,rejoin=False,list_rare_words=list(list_unique_words))"
   ]
  },
  {
   "cell_type": "code",
   "execution_count": 82,
   "id": "0b36e865-6ff9-4a21-adc6-b00124103393",
   "metadata": {},
   "outputs": [
    {
     "data": {
      "image/png": "[encoded data removed]",
      "text/plain": [
       "<Figure size 432x288 with 1 Axes>"
      ]
     },
     "metadata": {
      "needs_background": "light"
     },
     "output_type": "display_data"
    }
   ],
   "source": [
    "# wordcloud 1\n",
    "wordcloud1 = WordCloud(background_color='white', stopwords=[], max_words=50).generate(\" \".join(corpus1))\n",
    "plt.imshow(wordcloud1)\n",
    "plt.show()"
   ]
  },
  {
   "cell_type": "code",
   "execution_count": 83,
   "id": "8c8dee86-b0ba-433a-ba54-9da618ca3756",
   "metadata": {},
   "outputs": [
    {
     "data": {
      "image/png": "[encoded data removed]",
      "text/plain": [
       "<Figure size 432x288 with 1 Axes>"
      ]
     },
     "metadata": {
      "needs_background": "light"
     },
     "output_type": "display_data"
    }
   ],
   "source": [
    "# wordcloud 0\n",
    "wordcloud0 = WordCloud(background_color='white', stopwords=[], max_words=50).generate(\" \".join(corpus0))\n",
    "plt.imshow(wordcloud0)\n",
    "plt.show()"
   ]
  },
  {
   "cell_type": "code",
   "execution_count": 84,
   "id": "c71d4b32-d04b-4c32-9bd9-5c6b3ba45335",
   "metadata": {},
   "outputs": [
    {
     "data": {
      "text/plain": [
       "['comprim', 'voi']"
      ]
     },
     "execution_count": 84,
     "metadata": {},
     "output_type": "execute_result"
    }
   ],
   "source": [
    "# check repeated values in 10 elements of corpus0 and corpus1\n",
    "n = 10\n",
    "doublons  = [i for i in pd.Series(corpus1).value_counts().head(n).index\n",
    "                if i in pd.Series(corpus0).value_counts().head(n).index\n",
    "            ]\n",
    "doublons"
   ]
  },
  {
   "cell_type": "code",
   "execution_count": 85,
   "id": "8f070c48-01c3-49c6-8f38-9bc6b184bc8b",
   "metadata": {},
   "outputs": [
    {
     "data": {
      "text/plain": [
       "['comprim', 'voi', 'oral', 'trait', 'boit', 'cas', 'san']"
      ]
     },
     "execution_count": 85,
     "metadata": {},
     "output_type": "execute_result"
    }
   ],
   "source": [
    "# check repeated values in 50 elements of corpus0 and corpus1\n",
    "n = 50\n",
    "doublons  = [i for i in pd.Series(corpus1).value_counts().head(n).index\n",
    "                if i in pd.Series(corpus0).value_counts().head(n).index\n",
    "            ]\n",
    "doublons"
   ]
  },
  {
   "cell_type": "markdown",
   "id": "fa6ebc43-b655-45bb-94a8-f42cee3be551",
   "metadata": {},
   "source": [
    "## fourth cleaning function"
   ]
  },
  {
   "cell_type": "code",
   "execution_count": 86,
   "id": "5dc8bfda-2ac7-4702-9593-ff638a19bc0f",
   "metadata": {},
   "outputs": [],
   "source": [
    "# cleaning function\n",
    "def cleaning_function4(doc,rejoin = False,list_rare_words = None, min_len_words = 3, force_is_alpha = True, extra_words = None ):\n",
    "    \"\"\" function of text processing : it returns cleaned tokens or if rejoin (it joins cleaned tokens) \"\"\"\n",
    "    \n",
    "    if not list_rare_words :\n",
    "        list_rare_words = []\n",
    "    # lower and delete spaces\n",
    "    doc = doc.lower().strip()\n",
    "    # tokenize\n",
    "    tokenizer = nltk.RegexpTokenizer(r\"\\w+\")\n",
    "    tokens = tokenizer.tokenize(doc)\n",
    "    # stopwords\n",
    "    stopwords = nltk.corpus.stopwords.words(\"french\")\n",
    "    # list cleaned tokens\n",
    "    cleaned_tokens = [t for t in tokens if t not in stopwords]\n",
    "    # no rare tokens\n",
    "    no_rare_tokens = [t for t in cleaned_tokens if t not in list_rare_words]\n",
    "    # no more len words \n",
    "    no_more_len_words = [t for t in no_rare_tokens if len(t) >= min_len_words]\n",
    "    # only alpha chars\n",
    "    if force_is_alpha:\n",
    "        alpha_tokens = [t for t in no_more_len_words if t.isalpha()]\n",
    "    else : \n",
    "        alpha_tokens = no_more_len_words\n",
    "    # stemmer \n",
    "    stemmer_tokens = [stemmer.stem(m) for m in alpha_tokens]\n",
    "    # extra words\n",
    "    final = [i for i in stemmer_tokens if i not in extra_words]\n",
    "    # \n",
    "    if rejoin:\n",
    "        return \" \".join(final)\n",
    "    else : \n",
    "        return final"
   ]
  },
  {
   "cell_type": "code",
   "execution_count": 87,
   "id": "3d0a00e8-86c9-422d-bda2-1160ee1bfcb8",
   "metadata": {},
   "outputs": [],
   "source": [
    "def cleaning_function5(doc):\n",
    "    corpus = cleaning_function4(raw_corpus, rejoin=True, \n",
    "                                list_rare_words= list(list_unique_words), extra_words=doublons)\n",
    "    return corpus\n",
    "    "
   ]
  },
  {
   "cell_type": "code",
   "execution_count": 88,
   "id": "6a25c7eb-4b54-4933-ac8a-aec248c888e6",
   "metadata": {},
   "outputs": [],
   "source": [
    "clean_text = cleaning_function5(raw_corpus)"
   ]
  },
  {
   "cell_type": "markdown",
   "id": "5bf300ab-663e-4810-8924-619b83f304d4",
   "metadata": {},
   "source": [
    "Conclusion:\n",
    "-----------\n",
    "These cleaning functions are made to be performed on the dataset . We'll check the model improvment"
   ]
  },
  {
   "cell_type": "markdown",
   "id": "55bd0901-9e8b-44e0-84de-44becdee3fc9",
   "metadata": {},
   "source": [
    "# Model Building"
   ]
  },
  {
   "cell_type": "code",
   "execution_count": 89,
   "id": "5c868eb7-141f-43fc-b270-bba577bee879",
   "metadata": {},
   "outputs": [],
   "source": [
    "# import specific libraries for model building\n",
    "from sklearn.model_selection import train_test_split\n",
    "from sklearn.linear_model import LogisticRegression\n",
    "from sklearn.feature_extraction.text import CountVectorizer, TfidfVectorizer\n",
    "from sklearn.metrics import classification_report\n",
    "from joblib import dump, load\n",
    "from sklearn.pipeline import Pipeline\n",
    "from sklearn.metrics import f1_score, recall_score"
   ]
  },
  {
   "cell_type": "code",
   "execution_count": 90,
   "id": "64f4f38f-611b-480c-ba4b-b3164feed4be",
   "metadata": {},
   "outputs": [
    {
     "data": {
      "text/html": [
       "<div>\n",
       "<style scoped>\n",
       "    .dataframe tbody tr th:only-of-type {\n",
       "        vertical-align: middle;\n",
       "    }\n",
       "\n",
       "    .dataframe tbody tr th {\n",
       "        vertical-align: top;\n",
       "    }\n",
       "\n",
       "    .dataframe thead th {\n",
       "        text-align: right;\n",
       "    }\n",
       "</style>\n",
       "<table border=\"1\" class=\"dataframe\">\n",
       "  <thead>\n",
       "    <tr style=\"text-align: right;\">\n",
       "      <th></th>\n",
       "      <th>Text</th>\n",
       "      <th>Target</th>\n",
       "      <th>word_count</th>\n",
       "    </tr>\n",
       "  </thead>\n",
       "  <tbody>\n",
       "    <tr>\n",
       "      <th>0</th>\n",
       "      <td>corgard 40 mg  1 comprimé le matin et le soir</td>\n",
       "      <td>1</td>\n",
       "      <td>10</td>\n",
       "    </tr>\n",
       "    <tr>\n",
       "      <th>1</th>\n",
       "      <td>peau atopique</td>\n",
       "      <td>1</td>\n",
       "      <td>2</td>\n",
       "    </tr>\n",
       "    <tr>\n",
       "      <th>2</th>\n",
       "      <td>quantité suffisante pour 14j</td>\n",
       "      <td>1</td>\n",
       "      <td>4</td>\n",
       "    </tr>\n",
       "    <tr>\n",
       "      <th>3</th>\n",
       "      <td>prendre 1/2 comprime toutes les 8 heures</td>\n",
       "      <td>1</td>\n",
       "      <td>7</td>\n",
       "    </tr>\n",
       "    <tr>\n",
       "      <th>4</th>\n",
       "      <td>19 kggraduation 1 a 4 fois par jour selon beso...</td>\n",
       "      <td>1</td>\n",
       "      <td>19</td>\n",
       "    </tr>\n",
       "    <tr>\n",
       "      <th>...</th>\n",
       "      <td>...</td>\n",
       "      <td>...</td>\n",
       "      <td>...</td>\n",
       "    </tr>\n",
       "    <tr>\n",
       "      <th>1948</th>\n",
       "      <td>personne recevant les soins (la ligne nom et p...</td>\n",
       "      <td>0</td>\n",
       "      <td>15</td>\n",
       "    </tr>\n",
       "    <tr>\n",
       "      <th>1949</th>\n",
       "      <td>identification du pharmacien ou du fouruisseur...</td>\n",
       "      <td>0</td>\n",
       "      <td>14</td>\n",
       "    </tr>\n",
       "    <tr>\n",
       "      <th>1950</th>\n",
       "      <td>|dispensation du 21/04/2021 a 12h43m30s</td>\n",
       "      <td>0</td>\n",
       "      <td>5</td>\n",
       "    </tr>\n",
       "    <tr>\n",
       "      <th>1951</th>\n",
       "      <td>pointe a pitre, le 12/04/2021</td>\n",
       "      <td>0</td>\n",
       "      <td>5</td>\n",
       "    </tr>\n",
       "    <tr>\n",
       "      <th>1952</th>\n",
       "      <td>paracetamol 1 g; voie orale; comprime</td>\n",
       "      <td>0</td>\n",
       "      <td>6</td>\n",
       "    </tr>\n",
       "  </tbody>\n",
       "</table>\n",
       "<p>1952 rows × 3 columns</p>\n",
       "</div>"
      ],
      "text/plain": [
       "                                                   Text  Target  word_count\n",
       "0         corgard 40 mg  1 comprimé le matin et le soir       1          10\n",
       "1                                         peau atopique       1           2\n",
       "2                          quantité suffisante pour 14j       1           4\n",
       "3              prendre 1/2 comprime toutes les 8 heures       1           7\n",
       "4     19 kggraduation 1 a 4 fois par jour selon beso...       1          19\n",
       "...                                                 ...     ...         ...\n",
       "1948  personne recevant les soins (la ligne nom et p...       0          15\n",
       "1949  identification du pharmacien ou du fouruisseur...       0          14\n",
       "1950            |dispensation du 21/04/2021 a 12h43m30s       0           5\n",
       "1951                      pointe a pitre, le 12/04/2021       0           5\n",
       "1952              paracetamol 1 g; voie orale; comprime       0           6\n",
       "\n",
       "[1952 rows x 3 columns]"
      ]
     },
     "execution_count": 90,
     "metadata": {},
     "output_type": "execute_result"
    }
   ],
   "source": [
    "data"
   ]
  },
  {
   "cell_type": "code",
   "execution_count": 91,
   "id": "5017d3d9-72d6-47d2-bca1-f5d8fc49f827",
   "metadata": {},
   "outputs": [
    {
     "data": {
      "text/plain": [
       "0        corgard 40 mg  1 comprimé le matin et le soir\n",
       "1                                        peau atopique\n",
       "2                         quantité suffisante pour 14j\n",
       "3             prendre 1/2 comprime toutes les 8 heures\n",
       "4    19 kggraduation 1 a 4 fois par jour selon beso...\n",
       "Name: Text, dtype: object"
      ]
     },
     "execution_count": 91,
     "metadata": {},
     "output_type": "execute_result"
    }
   ],
   "source": [
    "X = data['Text']\n",
    "X.head()"
   ]
  },
  {
   "cell_type": "code",
   "execution_count": 92,
   "id": "22a055b3-8f5c-4e66-a00c-6eb1d6bc2b98",
   "metadata": {},
   "outputs": [
    {
     "data": {
      "text/plain": [
       "0    1\n",
       "1    1\n",
       "2    1\n",
       "3    1\n",
       "4    1\n",
       "Name: Target, dtype: int64"
      ]
     },
     "execution_count": 92,
     "metadata": {},
     "output_type": "execute_result"
    }
   ],
   "source": [
    "y = data.Target\n",
    "y.head()"
   ]
  },
  {
   "cell_type": "code",
   "execution_count": 93,
   "id": "5ea6bbb9-5e23-4172-87f0-a3351d041bb6",
   "metadata": {},
   "outputs": [
    {
     "data": {
      "text/plain": [
       "((1561,), (391,), (1561,), (391,))"
      ]
     },
     "execution_count": 93,
     "metadata": {},
     "output_type": "execute_result"
    }
   ],
   "source": [
    "# split data into train, test set\n",
    "X_train,X_test,y_train,y_test = train_test_split(X,y, test_size = 0.2,random_state=100)\n",
    "X_train.shape,X_test.shape,y_train.shape,y_test.shape"
   ]
  },
  {
   "cell_type": "code",
   "execution_count": 94,
   "id": "88445d44-0b8a-4d4e-a80d-931fb12b27f8",
   "metadata": {},
   "outputs": [],
   "source": [
    "# evaluation\n",
    "#print(classification_report(y_test, y_pred))"
   ]
  },
  {
   "cell_type": "code",
   "execution_count": 95,
   "id": "c9519efa-ecb8-4bb5-ad8c-08dd3cdc8ee7",
   "metadata": {},
   "outputs": [],
   "source": [
    "# export the build model\n",
    "#dump(lr,'exported_posology.joblib')"
   ]
  },
  {
   "cell_type": "markdown",
   "id": "7f3e42af-e816-4b03-9cf6-8a804cf522b2",
   "metadata": {},
   "source": [
    "### pipeline"
   ]
  },
  {
   "cell_type": "code",
   "execution_count": 96,
   "id": "09d0dce0-5775-4f96-8e5e-af6de0a54535",
   "metadata": {},
   "outputs": [],
   "source": [
    "from sklearn.pipeline import Pipeline"
   ]
  },
  {
   "cell_type": "code",
   "execution_count": 97,
   "id": "870c5ce4-05a6-47e2-94bf-16c3b6fd70b8",
   "metadata": {},
   "outputs": [],
   "source": [
    "pipe = Pipeline([('countvectorizer', CountVectorizer(binary=True)), ('lr_model',LogisticRegression())])"
   ]
  },
  {
   "cell_type": "code",
   "execution_count": 98,
   "id": "7f7420e0-4acf-4444-b0c9-7b5b7249f8ee",
   "metadata": {},
   "outputs": [
    {
     "data": {
      "text/plain": [
       "Pipeline(steps=[('countvectorizer', CountVectorizer(binary=True)),\n",
       "                ('lr_model', LogisticRegression())])"
      ]
     },
     "execution_count": 98,
     "metadata": {},
     "output_type": "execute_result"
    }
   ],
   "source": [
    "pipe.fit(X_train,y_train)"
   ]
  },
  {
   "cell_type": "code",
   "execution_count": 99,
   "id": "8d19f662-2053-469b-b2e6-ce1c7ce1f58d",
   "metadata": {},
   "outputs": [],
   "source": [
    "# predictions\n",
    "y_pred = pipe.predict(X_test)"
   ]
  },
  {
   "cell_type": "code",
   "execution_count": 100,
   "id": "a5df684f-999e-4c53-aa0d-b5ef9b4dd366",
   "metadata": {},
   "outputs": [
    {
     "name": "stdout",
     "output_type": "stream",
     "text": [
      "the precision = 0.9258312020460358\n"
     ]
    }
   ],
   "source": [
    "print(f'the precision = {pipe.score(X_test,y_test)}')"
   ]
  },
  {
   "cell_type": "code",
   "execution_count": 101,
   "id": "d3756892-bcb9-49c1-9017-e5591378b71a",
   "metadata": {},
   "outputs": [
    {
     "name": "stdout",
     "output_type": "stream",
     "text": [
      "the recall = 0.7722772277227723\n"
     ]
    }
   ],
   "source": [
    "print(f'the recall = {recall_score(y_test,y_pred)}')"
   ]
  },
  {
   "cell_type": "code",
   "execution_count": 102,
   "id": "0c46589b-6f69-47e5-ae60-512768b94d4b",
   "metadata": {},
   "outputs": [
    {
     "name": "stdout",
     "output_type": "stream",
     "text": [
      "f1 score = 0.8432432432432432\n"
     ]
    }
   ],
   "source": [
    "score_f1 = f1_score(y_test,y_pred)\n",
    "print(f'f1 score = {score_f1}')"
   ]
  },
  {
   "cell_type": "code",
   "execution_count": 103,
   "id": "c4bedb12-307a-4585-a69a-0f35f8757f3e",
   "metadata": {},
   "outputs": [
    {
     "data": {
      "text/plain": [
       "['exported_posology.joblib']"
      ]
     },
     "execution_count": 103,
     "metadata": {},
     "output_type": "execute_result"
    }
   ],
   "source": [
    "# export the build pipeline model\n",
    "dump(pipe,'exported_posology.joblib')"
   ]
  }
 ],
 "metadata": {
  "kernelspec": {
   "display_name": "Python 3 (ipykernel)",
   "language": "python",
   "name": "python3"
  },
  "language_info": {
   "codemirror_mode": {
    "name": "ipython",
    "version": 3
   },
   "file_extension": ".py",
   "mimetype": "text/x-python",
   "name": "python",
   "nbconvert_exporter": "python",
   "pygments_lexer": "ipython3",
   "version": "3.9.7"
  }
 },
 "nbformat": 4,
 "nbformat_minor": 5
}
